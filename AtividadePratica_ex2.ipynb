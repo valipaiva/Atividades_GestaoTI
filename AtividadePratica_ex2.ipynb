{
  "nbformat": 4,
  "nbformat_minor": 0,
  "metadata": {
    "colab": {
      "provenance": [],
      "authorship_tag": "ABX9TyMV+bJTjfDFPDUH8kOZf5Uy",
      "include_colab_link": true
    },
    "kernelspec": {
      "name": "python3",
      "display_name": "Python 3"
    },
    "language_info": {
      "name": "python"
    }
  },
  "cells": [
    {
      "cell_type": "markdown",
      "metadata": {
        "id": "view-in-github",
        "colab_type": "text"
      },
      "source": [
        "<a href=\"https://colab.research.google.com/github/valipaiva/Atividades_GestaoTI/blob/main/AtividadePratica_ex2.ipynb\" target=\"_parent\"><img src=\"https://colab.research.google.com/assets/colab-badge.svg\" alt=\"Open In Colab\"/></a>"
      ]
    },
    {
      "cell_type": "code",
      "execution_count": null,
      "metadata": {
        "id": "kBp8rA9pkdZi"
      },
      "outputs": [],
      "source": [
        "#Faça uma função que receba o nome e sobrenome de uma pessoa e retorne a primeira letra de seu nome\n",
        "#e seu sobrenome concatenando com a string @algoritmos.com.br.\n",
        "#No algoritmo principal deverá ser apresentada a mensagem ao usuário contendo seu nome completo e seu email.\n",
        "#Imprima na tela um teste do seu programa utilizando o seu nome e sobrenome concatenado com os dois últimos dígitos do seu RU\n",
        "\n",
        "nome = str (input('Digite o seu primeiro seu nome:')) #armazena string da entrada\n",
        "sobrenome = str(input('Digite o sobrenome:'))\n",
        "ru = int(input ('Digite os dois útimos números do RU:'))\n",
        "email = nome[0]+sobrenome #[0] para apresentar some a primeira letra\n",
        "#não consegui realizar o programa para imprimir letras minuscula com o lower\n",
        "\n",
        "print('Olá {} {}, seu e-mail é {}{}@algoritmo.com.br'.format(nome,sobrenome,email,ru))\n"
      ]
    }
  ]
}
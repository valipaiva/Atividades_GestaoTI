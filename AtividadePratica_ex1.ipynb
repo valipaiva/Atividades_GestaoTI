{
  "nbformat": 4,
  "nbformat_minor": 0,
  "metadata": {
    "colab": {
      "provenance": [],
      "authorship_tag": "ABX9TyO0dBWb4IEJywzFQyFAPQQw",
      "include_colab_link": true
    },
    "kernelspec": {
      "name": "python3",
      "display_name": "Python 3"
    },
    "language_info": {
      "name": "python"
    }
  },
  "cells": [
    {
      "cell_type": "markdown",
      "metadata": {
        "id": "view-in-github",
        "colab_type": "text"
      },
      "source": [
        "<a href=\"https://colab.research.google.com/github/valipaiva/Atividades_GestaoTI/blob/main/AtividadePratica_ex1.ipynb\" target=\"_parent\"><img src=\"https://colab.research.google.com/assets/colab-badge.svg\" alt=\"Open In Colab\"/></a>"
      ]
    },
    {
      "cell_type": "code",
      "execution_count": null,
      "metadata": {
        "id": "s9fFPrH4j3Am"
      },
      "outputs": [],
      "source": [
        "#Escreva um programa que leia o nome de um aluno e sua nota final.\n",
        "#Em seguida, informe o conceito conforme a tabela abaixo.\n",
        "#A saída do programa deve exibir na tela uma frase com o padrão descrito a seguir: Nome do aluno: Fábio José Nota final: 3.5\n",
        "\n",
        "nome = input ('Qual o seu nome? ') #entrada do nome\n",
        "nota = float(input('Qual a sua nota? ')) #entrada da nota que será analisada\n",
        "if (nota > 0 and nota <= 2.9): #verifica qual enquadramento da nota para imprimir o conceito\n",
        "   conceito = 'E'  #definição de qual conceito será utilizado\n",
        "elif nota > 3.0 and nota <= 4.9:\n",
        "   conceito = 'D'\n",
        "elif nota > 5.0 and nota <= 6.9:\n",
        "   conceito = 'C'\n",
        "elif nota > 7.0 and nota <= 8.9:\n",
        "   conceito = 'B'\n",
        "elif nota > 9.0 and nota <= 10:\n",
        "   conceito = 'A'\n",
        "print ('O aluno {} tirou nota {} e se enquadra no conceito {}' .format(nome,nota,conceito))\n"
      ]
    }
  ]
}
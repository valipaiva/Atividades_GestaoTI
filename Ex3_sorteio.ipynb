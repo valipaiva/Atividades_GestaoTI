{
  "nbformat": 4,
  "nbformat_minor": 0,
  "metadata": {
    "colab": {
      "provenance": [],
      "authorship_tag": "ABX9TyPHBb6IFIIwaWzWVAbqzevA",
      "include_colab_link": true
    },
    "kernelspec": {
      "name": "python3",
      "display_name": "Python 3"
    },
    "language_info": {
      "name": "python"
    }
  },
  "cells": [
    {
      "cell_type": "markdown",
      "metadata": {
        "id": "view-in-github",
        "colab_type": "text"
      },
      "source": [
        "<a href=\"https://colab.research.google.com/github/valipaiva/Atividades_GestaoTI/blob/main/Ex3_sorteio.ipynb\" target=\"_parent\"><img src=\"https://colab.research.google.com/assets/colab-badge.svg\" alt=\"Open In Colab\"/></a>"
      ]
    },
    {
      "cell_type": "code",
      "execution_count": 6,
      "metadata": {
        "colab": {
          "base_uri": "https://localhost:8080/"
        },
        "id": "vAnQ91AZrJrj",
        "outputId": "ba879ea7-931c-427f-a29e-c873c9973d62"
      },
      "outputs": [
        {
          "output_type": "stream",
          "name": "stdout",
          "text": [
            "Bem-vindo ao sorteio de doações!\n",
            "Lista de sorteio antes do embaralhamento:\n",
            "['Valissa', 'Valissa', 'Valissa', 'Valissa', 'Valissa', 'Valissa', 'Valissa', 'Valissa', 'Ruth', 'Ruth', 'Maria', 'Maria', 'Maria', 'Fernando', 'Fernando', 'Fernando', 'Fernando', 'Fernando']\n",
            "\n",
            "O ganhador do sorteio é: Valissa\n"
          ]
        }
      ],
      "source": [
        "#Um canal de jogos do youtube está fazendo um sorteio para angariar doações para pessoas em situação de vulnerabilidade social.\n",
        "#A cada 10,00 doado o nome da pessoa é inserido em uma lista de sorteio, por exemplo: Ruth doou 20,00; Maria doou 30,00; Fernando doou 50,00;\n",
        "#A lista de sorteio estará com os valores: listaSorteio = [‘Ruth’, ‘Ruth’, ’Maria’, ’Maria’, ’Maria’, ’Fernando’, ’Fernando’, ’Fernando’, ’Fernando’, ’Fernando’]\n",
        "#Implemente um programa para cadastrar o nome das pessoas que doaram.\n",
        "#O programa deve embaralhar a lista, sortear o ganhador e imprimir o seu nome.\n",
        "#Imprima na tela um teste do seu programa utilizando como primeiro doador o seu nome e os dois últimos dígitos do seu RU para o valor doado.\n",
        "#Não se esqueça de imprimir também a lista de sorteio.\n",
        "#Dica do Professor: Utilize o método random.shuffle para embaralhar a lista;\n",
        "\n",
        "import random\n",
        "\n",
        "# Cadastrar doações\n",
        "def cadastrar_doacoes():\n",
        "    listaSorteio = []\n",
        "\n",
        "    while True:\n",
        "        nome = input(\"Digite o nome do doador (ou 'sair' para encerrar): \")\n",
        "        if nome.lower() == 'sair':\n",
        "            break\n",
        "\n",
        "        try:\n",
        "            valor = int(input(f\"Digite o valor doado por {nome}: R$\"))\n",
        "            if valor % 10 != 0 or valor <= 0:\n",
        "                print(\"Valor inválido. A doação deve ser múltipla de 10 e maior que 0.\")\n",
        "                continue\n",
        "\n",
        "            # Adicionando o nome no sorteio, baseado no valor\n",
        "            listaSorteio.extend([nome] * (valor // 10))\n",
        "        except ValueError:\n",
        "            print(\"Por favor, digite um valor numérico válido.\")\n",
        "\n",
        "    return listaSorteio\n",
        "\n",
        "# Realizar o sorteio\n",
        "def sorteio(listaSorteio):\n",
        "    # Embaralhar\n",
        "    random.shuffle(listaSorteio)\n",
        "\n",
        "    # Sorteia\n",
        "    ganhador = random.choice(listaSorteio)\n",
        "    return ganhador\n",
        "\n",
        "# Função principal\n",
        "def main():\n",
        "    print(\"Bem-vindo ao sorteio de doações!\")\n",
        "\n",
        "    # Teste com o seu nome e o valor de doação baseado nos dois últimos dígitos do RU\n",
        "    seu_nome = \"Valissa\"  # Substitua por seu nome real\n",
        "    ultimo_ru = 86  # Substitua pelos dois últimos dígitos do seu RU\n",
        "    listaSorteio = [seu_nome] * (ultimo_ru // 10)\n",
        "\n",
        "    # Adiciona mais doadores de exemplo para ilustrar\n",
        "    listaSorteio += ['Ruth'] * 2  # Ruth doou 20,00\n",
        "    listaSorteio += ['Maria'] * 3  # Maria doou 30,00\n",
        "    listaSorteio += ['Fernando'] * 5  # Fernando doou 50,00\n",
        "\n",
        "    print(\"Lista de sorteio antes do embaralhamento:\")\n",
        "    print(listaSorteio)\n",
        "\n",
        "    ganhador = sorteio(listaSorteio)\n",
        "\n",
        "    print(f\"\\nO ganhador do sorteio é: {ganhador}\")\n",
        "\n",
        "# Chama a função principal\n",
        "if __name__ == \"__main__\":\n",
        "    main()\n"
      ]
    }
  ]
}
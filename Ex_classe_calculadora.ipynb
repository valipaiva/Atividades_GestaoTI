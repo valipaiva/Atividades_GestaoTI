{
  "nbformat": 4,
  "nbformat_minor": 0,
  "metadata": {
    "colab": {
      "provenance": [],
      "authorship_tag": "ABX9TyOJ8/VmJvI8WlRnIcsqdEWu",
      "include_colab_link": true
    },
    "kernelspec": {
      "name": "python3",
      "display_name": "Python 3"
    },
    "language_info": {
      "name": "python"
    }
  },
  "cells": [
    {
      "cell_type": "markdown",
      "metadata": {
        "id": "view-in-github",
        "colab_type": "text"
      },
      "source": [
        "<a href=\"https://colab.research.google.com/github/valipaiva/Atividades_GestaoTI/blob/main/Ex_classe_calculadora.ipynb\" target=\"_parent\"><img src=\"https://colab.research.google.com/assets/colab-badge.svg\" alt=\"Open In Colab\"/></a>"
      ]
    },
    {
      "cell_type": "code",
      "execution_count": null,
      "metadata": {
        "id": "gS45g265n65k"
      },
      "outputs": [],
      "source": [
        "#Exercício 1 – Desenvolver uma classe calculadora que faça operações matemáticas utilizando dois números inteiros, sendo os dois últimos números de seu RU.\n",
        "#Os dois números inteiros devem ser solicitados para o usuário digitar. Se o seu RU for zero, substituí-lo(s) pelo número 5.\n",
        "#Sendo as possíveis operações matemáticas: soma(+), subtração(-), multiplicação(*), divisão(/),  expoente (^), resto(%)\n",
        "#e raíz quadrada da soma dos dois números ( sqrt(Num1 + Num2) ).\n",
        "#Além destas funcionalidades, o algoritmo deverá ter um MENU que possíbilite ao usuário escolher qual o tipo de operação que se deseja realizar\n",
        "#e que possibilite ao usuário a digitar os dois números\n",
        "\n",
        "print(\"Operações da Calculadora:\")\n",
        "print(\"1 para adição\")\n",
        "print(\"2 para subtração\")\n",
        "print(\"3 para multiplicação\")\n",
        "print(\"4 para divisão\")\n",
        "print(\"5 para expoente\")\n",
        "print(\"6 para resto %\")\n",
        "\n",
        "\n",
        "operacao = str(input('Qual operação deseja realizar?  '))\n",
        "\n",
        "\n",
        "if operacao == \"1\":\n",
        "  val1 = float(input(\"Digite primeiro número: \"))\n",
        "  val2 = float(input(\"Digite segundo número: \"))\n",
        "  adicao = val1 + val2\n",
        "  print(\"A adição é:\", adicao)\n",
        "\n",
        "if operacao == \"2\":\n",
        "  val1 = float(input(\"Digite primeiro número: \"))\n",
        "  val2 = float(input(\"Digite segundo número: \"))\n",
        "  subtracao = val1 - val2\n",
        "  print(\"A subtração é:\", subtracao)\n",
        "\n",
        "\n",
        "if operacao == \"3\":\n",
        "  val1 = float(input(\"Digite primeiro número: \"))\n",
        "  val2 = float(input(\"Digite segundo número: \"))\n",
        "  multiplicacao = val1 * val2\n",
        "  print(\"A multiplicação é:\", multiplicacao)\n",
        "\n",
        "if operacao == \"4\":\n",
        "  val1 = float(input(\"Digite primeiro número: \"))\n",
        "  val2 = float(input(\"Digite segundo número: \"))\n",
        "  divisao = val1 / val2\n",
        "  print(\"A divisão é:\", divisao)\n",
        "\n",
        "\n",
        "if operacao == \"5\":\n",
        "  val1 = float(input(\"Digite primeiro número: \"))\n",
        "  val2 = float(input(\"Digite segundo número: \"))\n",
        "  expoente = val1 / val2\n",
        "  print(\"O expoente é:\", expoente)\n",
        "\n",
        "\n",
        "if operacao == \"6\":\n",
        "  val1 = float(input(\"Digite primeiro número: \"))\n",
        "  val2 = float(input(\"Digite segundo número: \"))\n",
        "  resto = val1 % val2\n",
        "  print(\"O resto é:\", resto)\n"
      ]
    }
  ]
}